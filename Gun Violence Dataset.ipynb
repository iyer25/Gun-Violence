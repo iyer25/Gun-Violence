{
 "cells": [
  {
   "cell_type": "code",
   "execution_count": 1,
   "metadata": {
    "collapsed": true
   },
   "outputs": [],
   "source": [
    "%matplotlib inline\n",
    "import pandas as pd\n",
    "import numpy as np\n",
    "import matplotlib.pyplot as plt\n",
    "import seaborn as sns\n",
    "color = sns.color_palette()\n",
    "sns.set_palette('bright')"
   ]
  },
  {
   "cell_type": "markdown",
   "metadata": {},
   "source": [
    "## Goals: \n",
    "1. What is the spatial variation of gun violence incidents across the US (on a state-level)?\n",
    "2. How does this correlate with politically red/blue states? "
   ]
  },
  {
   "cell_type": "code",
   "execution_count": 2,
   "metadata": {},
   "outputs": [
    {
     "name": "stdout",
     "output_type": "stream",
     "text": [
      "Dataframe dimensions: (239677, 29)\n"
     ]
    }
   ],
   "source": [
    "#read data\n",
    "df = pd.read_csv(\"gun-violence-data.csv\", parse_dates=[\"date\"])\n",
    "print('Dataframe dimensions:', df.shape)"
   ]
  },
  {
   "cell_type": "markdown",
   "metadata": {},
   "source": [
    "## Variation of gun violence incident frequency across the US"
   ]
  },
  {
   "cell_type": "code",
   "execution_count": 3,
   "metadata": {},
   "outputs": [
    {
     "name": "stdout",
     "output_type": "stream",
     "text": [
      "High five! You successfully sent some data to your account on plotly. View your plot in your browser at https://plot.ly/~iyer25/0 or inside your plot.ly account where it is named 'd3-cloropleth-map'\n"
     ]
    },
    {
     "data": {
      "text/html": [
       "<iframe id=\"igraph\" scrolling=\"no\" style=\"border:none;\" seamless=\"seamless\" src=\"https://plot.ly/~iyer25/0.embed\" height=\"525px\" width=\"100%\"></iframe>"
      ],
      "text/plain": [
       "<plotly.tools.PlotlyDisplay object>"
      ]
     },
     "execution_count": 3,
     "metadata": {},
     "output_type": "execute_result"
    }
   ],
   "source": [
    "#create a choropleth\n",
    "\n",
    "df_temp = pd.concat([df['state'].value_counts()], axis=1, keys = ['freq'])\n",
    "df_temp['state'] = df_temp.index\n",
    "\n",
    "import plotly.plotly as py\n",
    "py.sign_in('iyer25', 'hgait6T1fwTgzutbH4GV')\n",
    "\n",
    "#specify color scale for choropleth\n",
    "scl = [[0.0, 'rgb(242,240,247)'],[0.2, 'rgb(218,218,235)'],\n",
    "       [0.4, 'rgb(188,189,220)'],[0.6, 'rgb(158,154,200)'],\n",
    "       [0.8, 'rgb(117,107,177)'],[1.0, 'rgb(84,39,143)']]\n",
    "\n",
    "\n",
    "state_to_code = {'District of Columbia' : 'DC','Mississippi': 'MS', \\\n",
    "                 'Oklahoma': 'OK', 'Delaware': 'DE', \\\n",
    "                 'Minnesota': 'MN', 'Illinois': 'IL', 'Arkansas': 'AR', \\\n",
    "                 'New Mexico': 'NM', 'Indiana': 'IN', 'Maryland': 'MD', \\\n",
    "                 'Louisiana': 'LA', 'Idaho': 'ID', 'Wyoming': 'WY',\\\n",
    "                 'Tennessee': 'TN', 'Arizona': 'AZ', 'Iowa': 'IA',\\\n",
    "                 'Michigan': 'MI', 'Kansas': 'KS', 'Utah': 'UT',\\\n",
    "                 'Virginia': 'VA', 'Oregon': 'OR', 'Connecticut': 'CT',\\\n",
    "                 'Montana': 'MT', 'California': 'CA', \\\n",
    "                 'Massachusetts': 'MA', 'West Virginia': 'WV', \\\n",
    "                 'South Carolina': 'SC', 'New Hampshire': 'NH',\\\n",
    "                 'Wisconsin': 'WI', 'Vermont': 'VT', 'Georgia': 'GA', \\\n",
    "                 'North Dakota': 'ND', 'Pennsylvania': 'PA', \\\n",
    "                 'Florida': 'FL', 'Alaska': 'AK', 'Kentucky': 'KY',\\\n",
    "                 'Hawaii': 'HI', 'Nebraska': 'NE',\\\n",
    "                 'Missouri': 'MO', 'Ohio': 'OH', 'Alabama': 'AL',\\\n",
    "                 'Rhode Island': 'RI', 'South Dakota': 'SD',\\\n",
    "                 'Colorado': 'CO', 'New Jersey': 'NJ',\\\n",
    "                 'Washington': 'WA', 'North Carolina': 'NC',\\\n",
    "                 'New York': 'NY', 'Texas': 'TX', 'Nevada': 'NV',\\\n",
    "                 'Maine': 'ME'}\n",
    "\n",
    "df_temp['state_code'] = df_temp['state'].apply(lambda x : state_to_code[x])\n",
    "\n",
    "#Following the standard pyplot syntax\n",
    "data = [ dict(\n",
    "        type='choropleth',\n",
    "        colorscale = scl,\n",
    "        autocolorscale = False,\n",
    "        locations = df_temp['state_code'],\n",
    "        z = df_temp['freq'],\n",
    "        locationmode = 'USA-states',\n",
    "        text = df_temp['state'],\n",
    "        marker = dict(\n",
    "            line = dict (\n",
    "                color = 'rgb(255,255,255)',\n",
    "                width = 2\n",
    "            ) ),\n",
    "        colorbar = dict(\n",
    "            title = \"Frequency of gun violence incidents\")\n",
    "        ) ]\n",
    "\n",
    "layout = dict(\n",
    "        title = 'Gun Violence by State',\n",
    "        geo = dict(\n",
    "            scope='usa',\n",
    "            projection=dict( type='albers usa' ),\n",
    "            showlakes = True,\n",
    "            lakecolor = 'rgb(255, 255, 255)'),\n",
    "             )\n",
    "\n",
    "fig = dict( data=data, layout=layout )\n",
    "py.iplot( fig, filename='d3-cloropleth-map' )\n",
    "\n"
   ]
  },
  {
   "cell_type": "markdown",
   "metadata": {},
   "source": [
    "## Variation of gun violence incident frequency per capita across the US (scaled by populations of individual states)"
   ]
  },
  {
   "cell_type": "code",
   "execution_count": 16,
   "metadata": {},
   "outputs": [
    {
     "data": {
      "text/html": [
       "<iframe id=\"igraph\" scrolling=\"no\" style=\"border:none;\" seamless=\"seamless\" src=\"https://plot.ly/~iyer25/2.embed\" height=\"525px\" width=\"100%\"></iframe>"
      ],
      "text/plain": [
       "<plotly.tools.PlotlyDisplay object>"
      ]
     },
     "execution_count": 16,
     "metadata": {},
     "output_type": "execute_result"
    }
   ],
   "source": [
    "df1 = pd.read_csv('State_populations.csv')\n",
    "df1.state = df1.state.astype(str)\n",
    "df1.state = df1.state.apply(lambda x: x.replace('.', ''))\n",
    "df1.Population = df1.Population.apply(lambda x: x.replace(',', ''))\n",
    "df1.Population = df1.Population.astype(float)\n",
    "df1 = pd.merge(df_temp, df1, on='state', how='outer')\n",
    "df1['freq_per_capita'] = df1['freq']/df1['Population']\n",
    "\n",
    "#Create choropleth\n",
    "\n",
    "#specify color scale for choropleth\n",
    "scl = [[0.0, 'rgb(0,255,0)'],[0.2, 'rgb(0,200,0)'],\n",
    "       [0.4, 'rgb(0,150,0)'],[0.6, 'rgb(0,100,0)'],\n",
    "       [0.8, 'rgb(0,50,0)'],[1.0, 'rgb(0,0,0)']]\n",
    "#Following the standard pyplot syntax\n",
    "data = [ dict(\n",
    "        type='choropleth',\n",
    "        colorscale = scl,\n",
    "        autocolorscale = False,\n",
    "        locations = df1['state_code'],\n",
    "        z = df1['freq_per_capita'],\n",
    "        locationmode = 'USA-states',\n",
    "        text = df1['state'],\n",
    "        marker = dict(\n",
    "            line = dict (\n",
    "                color = 'rgb(255,255,255)',\n",
    "                width = 2\n",
    "            ) ),\n",
    "        colorbar = dict(\n",
    "            title = \"Frequency of gun violence incidents per capita\")\n",
    "        ) ]\n",
    "\n",
    "layout = dict(\n",
    "        title = 'Gun violence per capita by state',\n",
    "        geo = dict(\n",
    "            scope='usa',\n",
    "            projection=dict( type='albers usa' ),\n",
    "            showlakes = True,\n",
    "            lakecolor = 'rgb(255, 255, 255)'),\n",
    "             )\n",
    "\n",
    "\n",
    "fig = dict( data=data, layout=layout )\n",
    "py.iplot( fig, filename='freq_per_capita' )\n"
   ]
  },
  {
   "cell_type": "code",
   "execution_count": null,
   "metadata": {
    "collapsed": true
   },
   "outputs": [],
   "source": []
  }
 ],
 "metadata": {
  "kernelspec": {
   "display_name": "Python 3",
   "language": "python",
   "name": "python3"
  },
  "language_info": {
   "codemirror_mode": {
    "name": "ipython",
    "version": 3
   },
   "file_extension": ".py",
   "mimetype": "text/x-python",
   "name": "python",
   "nbconvert_exporter": "python",
   "pygments_lexer": "ipython3",
   "version": "3.6.1"
  }
 },
 "nbformat": 4,
 "nbformat_minor": 2
}
